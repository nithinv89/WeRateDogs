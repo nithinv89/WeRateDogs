{
 "cells": [
  {
   "cell_type": "markdown",
   "metadata": {},
   "source": [
    "# Flights Data Visualization\n",
    "## by Nithin Venugopal\n",
    "\n",
    "## Preliminary Wrangling\n",
    "\n",
    "> In this Project, we will be using Flights dataset taken from [Stats_Computing](http://stat-computing.org/dataexpo/2009/the-data.html). The Flights dataset essentially shows information of Flights from the US and includes data from 1987 to 2008. This rich data source contains so many variables for analysis including details pertaining to delays, flight information, causes of delays, taxi in/out, date etc.\n",
    "For my project, I am only including the analysis of the year 2007 since my system had touble encorporating all the data which surpasses to 1.5 GB. We will start with \n",
    "- Gathering the data\n",
    "- Assessing the important variables\n",
    "- Cleaning unecessary information\n",
    "- Exploratory Analysis\n",
    "- Explanatory Analysis"
   ]
  },
  {
   "cell_type": "code",
   "execution_count": 2,
   "metadata": {
    "ExecuteTime": {
     "end_time": "2020-07-07T19:08:25.399616Z",
     "start_time": "2020-07-07T19:08:23.903021Z"
    }
   },
   "outputs": [],
   "source": [
    "# import all packages and set plots to be embedded inline\n",
    "import numpy as np\n",
    "import pandas as pd\n",
    "import matplotlib.pyplot as plt\n",
    "import seaborn as sb\n",
    "pd.set_option('display.max_columns', None)\n",
    "\n",
    "\n",
    "%matplotlib inline"
   ]
  },
  {
   "cell_type": "code",
   "execution_count": 4,
   "metadata": {
    "ExecuteTime": {
     "end_time": "2020-07-07T19:23:59.263626Z",
     "start_time": "2020-07-07T19:23:39.402788Z"
    }
   },
   "outputs": [
    {
     "ename": "NameError",
     "evalue": "name 'flights_2007' is not defined",
     "output_type": "error",
     "traceback": [
      "\u001b[0;31m---------------------------------------------------------------------------\u001b[0m",
      "\u001b[0;31mNameError\u001b[0m                                 Traceback (most recent call last)",
      "\u001b[0;32m<ipython-input-4-705d9e354885>\u001b[0m in \u001b[0;36m<module>\u001b[0;34m\u001b[0m\n\u001b[1;32m      1\u001b[0m \u001b[0mflights_2007_original\u001b[0m \u001b[0;34m=\u001b[0m \u001b[0mpd\u001b[0m\u001b[0;34m.\u001b[0m\u001b[0mread_csv\u001b[0m\u001b[0;34m(\u001b[0m\u001b[0;34m'2007.csv'\u001b[0m\u001b[0;34m)\u001b[0m\u001b[0;34m\u001b[0m\u001b[0;34m\u001b[0m\u001b[0m\n\u001b[0;32m----> 2\u001b[0;31m \u001b[0mflights_2007_original\u001b[0m\u001b[0;34m.\u001b[0m\u001b[0misna\u001b[0m\u001b[0;34m(\u001b[0m\u001b[0;34m)\u001b[0m\u001b[0;34m.\u001b[0m\u001b[0msum\u001b[0m\u001b[0;34m(\u001b[0m\u001b[0;34m)\u001b[0m\u001b[0;34m,\u001b[0m \u001b[0mflights_2007\u001b[0m\u001b[0;34m.\u001b[0m\u001b[0mshape\u001b[0m\u001b[0;34m\u001b[0m\u001b[0;34m\u001b[0m\u001b[0m\n\u001b[0m",
      "\u001b[0;31mNameError\u001b[0m: name 'flights_2007' is not defined"
     ]
    }
   ],
   "source": [
    "flights_2007_original = pd.read_csv('2007.csv')\n",
    "flights_2007_original.isna().sum(), flights_2007.shape"
   ]
  },
  {
   "cell_type": "code",
   "execution_count": null,
   "metadata": {
    "ExecuteTime": {
     "end_time": "2020-07-07T19:08:43.470487Z",
     "start_time": "2020-07-07T19:08:23.907Z"
    }
   },
   "outputs": [],
   "source": [
    "flights_2007_original.head()"
   ]
  },
  {
   "cell_type": "code",
   "execution_count": null,
   "metadata": {
    "ExecuteTime": {
     "end_time": "2020-07-07T19:08:43.471485Z",
     "start_time": "2020-07-07T19:08:23.910Z"
    }
   },
   "outputs": [],
   "source": [
    "# How many duplicates?\n",
    "flights_2007_original.duplicated().sum()"
   ]
  },
  {
   "cell_type": "code",
   "execution_count": null,
   "metadata": {
    "ExecuteTime": {
     "end_time": "2020-07-07T19:08:43.472702Z",
     "start_time": "2020-07-07T19:08:23.916Z"
    },
    "scrolled": true
   },
   "outputs": [],
   "source": [
    "# Which are the values\n",
    "flights_2007_original[flights_2007_original.duplicated()]"
   ]
  },
  {
   "cell_type": "code",
   "execution_count": null,
   "metadata": {
    "ExecuteTime": {
     "end_time": "2020-07-07T19:08:43.473585Z",
     "start_time": "2020-07-07T19:08:23.918Z"
    },
    "scrolled": false
   },
   "outputs": [],
   "source": [
    "# Remove Dupllicates\n",
    "flights_2007_original.drop_duplicates(inplace = True)\n",
    "flights_2007_original.info()"
   ]
  },
  {
   "cell_type": "code",
   "execution_count": null,
   "metadata": {
    "ExecuteTime": {
     "end_time": "2020-07-07T19:08:43.474581Z",
     "start_time": "2020-07-07T19:08:23.920Z"
    }
   },
   "outputs": [],
   "source": [
    "#How many nan values\n",
    "flights_2007_original.isna().sum()"
   ]
  },
  {
   "cell_type": "markdown",
   "metadata": {},
   "source": [
    "> I will not be removing any Nan's since it is not pertinent to the variables I am taking into consideration"
   ]
  },
  {
   "cell_type": "markdown",
   "metadata": {},
   "source": [
    "### What is the structure of your dataset?\n",
    "\n",
    "> My data contains 2389217 rows and 29 rows. The data contains daily aircraft data from many carriers from 2007. Most data types as integers and strings. Any data that contains time is represented in minutes.\n",
    "\n",
    "### What is/are the main feature(s) of interest in your dataset?\n",
    "\n",
    "> As a Data Analyst and an avid traveller, my interest lies in finding out which are the worst airlines with respect to the delay of departure and arrival and how these values are correlated. I want to also explore the other reasons for delays per month and also finally look into the various delays with respect to the 5 Worst Airlines with respect to the delay time.\n",
    "\n",
    "### What features in the dataset do you think will help support your investigation into your feature(s) of interest?\n",
    "\n",
    "> The feature that would help me analyze this dataset includes\n",
    "- Month\n",
    "- Unique Carriers\n",
    "- Departed Delay Time\n",
    "- Arrival Delay time\n",
    "- Various Delay causes such as weather, carrier delay etc"
   ]
  },
  {
   "cell_type": "code",
   "execution_count": null,
   "metadata": {
    "ExecuteTime": {
     "end_time": "2020-07-07T19:08:43.475835Z",
     "start_time": "2020-07-07T19:08:24.006Z"
    }
   },
   "outputs": [],
   "source": [
    "# Making a copy\n",
    "\n",
    "flights_2007 = flights_2007_original.copy()"
   ]
  },
  {
   "cell_type": "markdown",
   "metadata": {},
   "source": [
    "## Univariate Exploration\n",
    "\n"
   ]
  },
  {
   "cell_type": "markdown",
   "metadata": {},
   "source": [
    "#### What is the relationship between Arrival, Departure and Elapsed Delay"
   ]
  },
  {
   "cell_type": "code",
   "execution_count": null,
   "metadata": {
    "ExecuteTime": {
     "end_time": "2020-07-07T19:08:43.476978Z",
     "start_time": "2020-07-07T19:08:24.009Z"
    }
   },
   "outputs": [],
   "source": [
    "plt.figure(figsize = [20,5])\n",
    "\n",
    "plt.subplot(1,3,1)\n",
    "plt.hist(flights_2007.ArrDelay, bins = np.arange(-50, 80,5), rwidth = 0.9)\n",
    "plt.title('Arrival Delay')\n",
    "\n",
    "\n",
    "\n",
    "plt.subplot(1,3,2)\n",
    "plt.hist(flights_2007.DepDelay, bins = np.arange(-50, 80,5), rwidth = 0.9)\n",
    "plt.title('Departure Delay')\n",
    "\n",
    "\n",
    "plt.subplot(1,3,3)\n",
    "plt.hist((flights_2007.ActualElapsedTime-flights_2007.CRSElapsedTime), bins = np.arange(-50, 80,5), rwidth = 0.9)\n",
    "plt.title('Elapsed Delay')\n"
   ]
  },
  {
   "cell_type": "markdown",
   "metadata": {},
   "source": [
    "\n",
    "> We can see that the Departure Delay follows extreme right skewness while Arrival Delay is slightly right skewed. The Elapsed Delay tends more towards the normal distribution. What conclusions can we make?\n",
    "- If we witnessed both Departure and Arrival Delay to be the same distribution, we could have concluded that all flights that have a departure delay should also have an Arrival Delay. This is not the case and hence we can conclude that although Departure Delays can cause Arrival Delays, this is not certain for all scenarios. \n",
    "- Since all plots have the same y-axis, I feel transformation will only be an extra step to come up with the same conclusion\n",
    "\n"
   ]
  },
  {
   "cell_type": "markdown",
   "metadata": {},
   "source": [
    "### Discuss the distribution(s) of your variable(s) of interest. Were there any unusual points? Did you need to perform any transformations?\n",
    "- Essentially no straighforward correlation can be formed although we cannot say there is no correlation at all. We will need to perform a bivariate exploration for a better picture of the correlation. I did not perfom any transformations for the same since we could zoom in to get an idea of the distributions.\n",
    "\n",
    "### Of the features you investigated, were there any unusual distributions? Did you perform any operations on the data to tidy, adjust, or change the form of the data? If so, why did you do this?\n",
    "- Yes there were unusual distributions. I expected the arrival time delay and departure time delay to have the same distribution but did not find that to be true. I did not do any adjustments since we can explore more in the bivariate exploration"
   ]
  },
  {
   "cell_type": "markdown",
   "metadata": {},
   "source": [
    "## Bivariate Exploration\n",
    "\n"
   ]
  },
  {
   "cell_type": "markdown",
   "metadata": {},
   "source": [
    "#### Worst airlines in Terms of delay"
   ]
  },
  {
   "cell_type": "code",
   "execution_count": null,
   "metadata": {
    "ExecuteTime": {
     "end_time": "2020-07-07T19:08:43.477785Z",
     "start_time": "2020-07-07T19:08:24.085Z"
    }
   },
   "outputs": [],
   "source": [
    "carriers = pd.read_csv('carriers.csv')\n",
    "carrier_dict = dict(carriers.values)\n",
    "\n",
    "#plt.figure(figsize=([20, 15]));\n",
    "\n",
    "flights_2007_worst = flights_2007.groupby('UniqueCarrier').agg({'DepDelay':'mean', 'ArrDelay':'mean'}).rename(index=carrier_dict).sort_values('DepDelay', ascending=False).head(5)\n",
    "\n",
    "flights_2007_worst.plot(kind = 'barh');\n",
    "plt.xlabel('Time in mins');\n",
    "plt.ylabel('Unique Carrier');\n",
    "plt.title('Worst Airlines ranked by Delay Time');\n",
    "\n"
   ]
  },
  {
   "cell_type": "markdown",
   "metadata": {},
   "source": [
    "> We can see the worst performers of 2007 in terms of delays. There could be so many reasons for this poor performance which we will explore as we go further"
   ]
  },
  {
   "cell_type": "markdown",
   "metadata": {},
   "source": [
    "#### Relation between Arrival Time Delay, Departure Time Delay and Elapsed Time Delay"
   ]
  },
  {
   "cell_type": "code",
   "execution_count": null,
   "metadata": {
    "ExecuteTime": {
     "end_time": "2020-07-07T19:08:43.478835Z",
     "start_time": "2020-07-07T19:08:24.159Z"
    }
   },
   "outputs": [],
   "source": [
    "fig, [ax1,ax2,ax3] = plt.subplots(1,3, figsize = [16,6])\n",
    "sb.scatterplot(flights_2007.DepDelay, flights_2007.ArrDelay, alpha = 0.01,s = 0.3, ax = ax1)\n",
    "ax1.set_xlabel('Departure Delay')\n",
    "ax1.set_ylabel('Arrival Delay')\n",
    "ax1.set_xlim([-200,2000])\n",
    "ax1.set_ylim([-200,2000])\n",
    "\n",
    "sb.scatterplot(flights_2007.DepDelay, (flights_2007.ActualElapsedTime - flights_2007.CRSElapsedTime),s = 0.3, alpha = 0.01, ax = ax2)\n",
    "ax2.set_xlabel('Departure Delay')\n",
    "ax2.set_ylabel('Elapsed Time Delay')\n",
    "ax2.set_xlim([-200,2000])\n",
    "ax2.set_ylim([-200,2000])\n",
    "\n",
    "\n",
    "sb.scatterplot(flights_2007.ArrDelay, (flights_2007.ActualElapsedTime - flights_2007.CRSElapsedTime),s = 0.3, alpha = 0.01, ax = ax3)\n",
    "ax3.set_xlabel('Arrival Delay')\n",
    "ax3.set_ylabel('Elapsed Time Delay')\n",
    "ax3.set_xlim([-200,2000])\n",
    "ax3.set_ylim([-200,2000])\n"
   ]
  },
  {
   "cell_type": "markdown",
   "metadata": {},
   "source": [
    "> - Left: we can see that there is a strong correlation between Departure Delay and Arrival Delay. But in general the Departure Delay seems to be slightly more than Arrival Delay\n",
    "> - Right: It seems that the arrival delay has some correlation with Elapsed time Delay but overall the correlation is not strong enough since the scales are different\n",
    "> - Centre: There is no correlation between Departure Delay and Elapsed Time Delay"
   ]
  },
  {
   "cell_type": "markdown",
   "metadata": {},
   "source": [
    "#### Delays compounded by Month"
   ]
  },
  {
   "cell_type": "code",
   "execution_count": null,
   "metadata": {
    "ExecuteTime": {
     "end_time": "2020-07-07T19:08:43.480051Z",
     "start_time": "2020-07-07T19:08:24.166Z"
    },
    "scrolled": true
   },
   "outputs": [],
   "source": [
    "flights_2007_mean = flights_2007.groupby('Month').agg({'DepDelay':'mean', 'ArrDelay':'mean'})\n",
    "\n",
    "\n",
    "flights_2007_mean.plot.line()\n",
    "\n",
    "plt.show()"
   ]
  },
  {
   "cell_type": "markdown",
   "metadata": {},
   "source": [
    "> Here we can see the best month to travel where the mean delays are much less than the rest of the year. Further analysis needs to be done on all the years to see if this pattern is consistent throughout. We will also need to see city by city calculation to know more about this pattern"
   ]
  },
  {
   "cell_type": "markdown",
   "metadata": {},
   "source": [
    "### Talk about some of the relationships you observed in this part of the investigation. How did the feature(s) of interest vary with other features in the dataset?\n",
    ">Here we can see a strong correlation between arrival time delay and departure time delay. There is no correlation for elapsed time delay with respect to departure time delay although the arrival time delay showed some correlation with respect to the elapsed time delay.\n",
    "\n",
    "### Did you observe any interesting relationships between the other features (not the main feature(s) of interest)?\n",
    "> I expected the correlation between elapsed time delay to arrival time delay to be more strong since if the arrival time delay is more, the elapsed time delay should automatically show the same. I found out that was not the case which shows that the departure time delay is proportional to arrival time delay. This means that there were many instances were the carrier took the same amount of minutes to reach even though there were delays.\n",
    "> 1 thing to note is the delays seen in the month of September to november. This needs to be further verified with other years so as to find a pattern. Furthermore we can plot the various causes of delays with the Month variable and see if the pattern fits"
   ]
  },
  {
   "cell_type": "markdown",
   "metadata": {},
   "source": [
    "## Multivariate Exploration\n",
    "\n"
   ]
  },
  {
   "cell_type": "markdown",
   "metadata": {},
   "source": [
    "#### Line Plot comparing the various causes of delays with respect to month"
   ]
  },
  {
   "cell_type": "code",
   "execution_count": null,
   "metadata": {
    "ExecuteTime": {
     "end_time": "2020-07-07T19:08:43.480900Z",
     "start_time": "2020-07-07T19:08:24.169Z"
    }
   },
   "outputs": [],
   "source": [
    "Carrier_month = flights_2007.query('CarrierDelay > 0').groupby('Month').agg({'CarrierDelay':'mean'})\n",
    "Weather_month = flights_2007.query('WeatherDelay > 0').groupby('Month').agg({'WeatherDelay':'mean'})\n",
    "NASDelay_month = flights_2007.query('NASDelay > 0').groupby('Month').agg({'NASDelay':'mean'})\n",
    "Security_month = flights_2007.query('SecurityDelay > 0').groupby('Month').agg({'SecurityDelay':'mean'})\n",
    "LateAircraft_month = flights_2007.query('LateAircraftDelay >0').groupby('Month').agg({'LateAircraftDelay':'mean'})\n",
    "\n"
   ]
  },
  {
   "cell_type": "code",
   "execution_count": null,
   "metadata": {
    "ExecuteTime": {
     "end_time": "2020-07-07T19:08:43.482016Z",
     "start_time": "2020-07-07T19:08:24.171Z"
    }
   },
   "outputs": [],
   "source": [
    "plt.figure(figsize=[20,10])\n",
    "\n",
    "plt.errorbar(x = Carrier_month.index, y = Carrier_month['CarrierDelay'])\n",
    "plt.errorbar(x = Weather_month.index, y = Weather_month['WeatherDelay'])\n",
    "plt.errorbar(x = NASDelay_month.index, y = NASDelay_month['NASDelay'])\n",
    "plt.errorbar(x = Security_month.index, y = Security_month['SecurityDelay'])\n",
    "plt.errorbar(x = LateAircraft_month.index, y = LateAircraft_month['LateAircraftDelay'])\n",
    "\n",
    "plt.xlabel('Month')\n",
    "plt.ylabel('Delay Time in Minutes')\n",
    "plt.title('Month vs Delay Time Due to Carrier, Weather, NAS, Security or Late Aircraft')\n",
    "plt.legend(['Carrier Delay', 'Weather Delay', 'NAS Delay', 'Security Delay', 'Late Aircraft Delay'])\n",
    "\n",
    "plt.show()"
   ]
  },
  {
   "cell_type": "markdown",
   "metadata": {},
   "source": [
    "> Here we can see that the 2 main reasons for Delays are the Weather and also the Late Arrival of the plane. It is also interesting to note the variation of these delays does differ month to month drastically."
   ]
  },
  {
   "cell_type": "markdown",
   "metadata": {},
   "source": [
    "#### Line Plot comparing the various causes of delays with respect to the worst performing carriers"
   ]
  },
  {
   "cell_type": "code",
   "execution_count": null,
   "metadata": {
    "ExecuteTime": {
     "end_time": "2020-07-07T19:08:43.483228Z",
     "start_time": "2020-07-07T19:08:24.174Z"
    }
   },
   "outputs": [],
   "source": [
    "#Subsetting the required data\n",
    "flights_2007_worst1 = flights_2007.groupby('UniqueCarrier').agg({'DepDelay':'mean', 'ArrDelay':'mean'}).sort_values('DepDelay', ascending=False).head(5)\n",
    "worst = pd.DataFrame(flights_2007_worst1.reset_index().UniqueCarrier)\n",
    "worst1 = flights_2007.loc[flights_2007['UniqueCarrier'].isin(worst['UniqueCarrier'])]\n",
    "flights_2007_worst.head(5).index"
   ]
  },
  {
   "cell_type": "code",
   "execution_count": null,
   "metadata": {
    "ExecuteTime": {
     "end_time": "2020-07-07T19:08:43.484465Z",
     "start_time": "2020-07-07T19:08:24.176Z"
    }
   },
   "outputs": [],
   "source": [
    "#grouping careerwise\n",
    "carrier1 = worst1.groupby('UniqueCarrier').agg({'CarrierDelay':'mean'})\n",
    "weather1 = worst1.groupby('UniqueCarrier').agg({'WeatherDelay':'mean'})\n",
    "nas1 = worst1.groupby('UniqueCarrier').agg({'NASDelay':'mean'})\n",
    "security1 = worst1.groupby('UniqueCarrier').agg({'SecurityDelay':'mean'})\n",
    "late1 = worst1.groupby('UniqueCarrier').agg({'LateAircraftDelay':'mean'})"
   ]
  },
  {
   "cell_type": "code",
   "execution_count": null,
   "metadata": {
    "ExecuteTime": {
     "end_time": "2020-07-07T19:08:43.485392Z",
     "start_time": "2020-07-07T19:08:24.179Z"
    }
   },
   "outputs": [],
   "source": [
    "#PLotting the figure\n",
    "plt.figure(figsize=[20,10])\n",
    "\n",
    "plt.errorbar(x = carrier1.index, y = carrier1['CarrierDelay'])\n",
    "plt.errorbar(x = weather1.index, y = weather1['WeatherDelay'])\n",
    "plt.errorbar(x = nas1.index, y = nas1['NASDelay'])\n",
    "plt.errorbar(x = security1.index, y = security1['SecurityDelay'])\n",
    "plt.errorbar(x = late1.index, y = late1['LateAircraftDelay'])\n",
    "\n",
    "plt.xlabel('Carriers')\n",
    "plt.ylabel('Delay Time in Minutes')\n",
    "plt.title('Worst Carriers (Delays) vs Delay Time Due to Carrier, Weather, NAS, Security or Late Aircraft')\n",
    "plt.legend(['Carrier Delay', 'Weather Delay', 'NAS Delay', 'Security Delay', 'Late Aircraft Delay'])\n",
    "plt.xticks(carrier1.index, labels =flights_2007_worst.head(5).index, rotation = 45)\n",
    "\n",
    "plt.show()"
   ]
  },
  {
   "cell_type": "markdown",
   "metadata": {},
   "source": [
    "### Talk about some of the relationships you observed in this part of the investigation. Were there features that strengthened each other in terms of looking at your feature(s) of interest?\n",
    "\n",
    "> In the 1st plot, we can see that the 2 main reasons for Delays are the Weather and also the Late Arrival of the plane. It is also interesting to note the variation of these delays does differ month to month quite a bit.\n",
    "> In the 2nd plot, we can see that the aircrafts that showed high departure and arrival delays essentially had the blame on themselves where the carrier delay and Late aircraft delay seemed to be the highest factor.\n",
    "\n",
    "### Were there any interesting or surprising interactions between features?\n",
    ">It is also interesting to note that in the 1st plot, the variation of these delays does differ month to month quite a bit.\n",
    " "
   ]
  },
  {
   "cell_type": "code",
   "execution_count": null,
   "metadata": {},
   "outputs": [],
   "source": []
  }
 ],
 "metadata": {
  "kernelspec": {
   "display_name": "Python 3",
   "language": "python",
   "name": "python3"
  },
  "language_info": {
   "codemirror_mode": {
    "name": "ipython",
    "version": 3
   },
   "file_extension": ".py",
   "mimetype": "text/x-python",
   "name": "python",
   "nbconvert_exporter": "python",
   "pygments_lexer": "ipython3",
   "version": "3.7.6"
  },
  "toc": {
   "base_numbering": 1,
   "nav_menu": {},
   "number_sections": true,
   "sideBar": true,
   "skip_h1_title": false,
   "title_cell": "Table of Contents",
   "title_sidebar": "Contents",
   "toc_cell": false,
   "toc_position": {},
   "toc_section_display": true,
   "toc_window_display": false
  }
 },
 "nbformat": 4,
 "nbformat_minor": 2
}
